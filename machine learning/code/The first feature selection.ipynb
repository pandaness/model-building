{
 "cells": [
  {
   "cell_type": "code",
   "execution_count": 1,
   "id": "21d77268",
   "metadata": {},
   "outputs": [],
   "source": [
    "import pandas as pd\n",
    "from sklearn.tree import DecisionTreeRegressor\n",
    "from sklearn.preprocessing import StandardScaler\n",
    "from catboost import CatBoostRegressor\n",
    "from sklearn.model_selection import train_test_split, GridSearchCV\n",
    "from sklearn.metrics import r2_score, mean_absolute_error, mean_squared_error\n",
    "import joblib\n",
    "\n",
    "# Read the CSV file\n",
    "data = pd.read_csv('93 feature.csv', sep=',')\n",
    "\n",
    "# Use the first column as the dependent variable and the other columns as the independent variables\n",
    "X = data.iloc[:, 1:]\n",
    "y = data.iloc[:, 0]\n",
    "\n",
    "# Divide the data into training sets and test sets\n",
    "X_train, X_test, y_train, y_test = train_test_split(X, y, test_size=0.2, random_state=56)\n",
    "# Normalize the training and test sets using the mean and standard deviation of the training set\n",
    "scaler = StandardScaler()\n",
    "X_train_scaled = scaler.fit_transform(X_train)\n",
    "X_test_scaled = scaler.transform(X_test)\n",
    "\n",
    "# Decision tree selection features using embedded methods\n",
    "dt = DecisionTreeRegressor(random_state=81) \n",
    "dt.fit(X_train_scaled, y_train)\n",
    "\n",
    "# Select the 15 most important features\n",
    "feature_importance = pd.Series(dt.feature_importances_, index=X.columns)\n",
    "top_15_features = feature_importance.nlargest(15).index.tolist()\n",
    "X_train_selected = X_train[top_15_features]\n",
    "X_test_selected = X_test[top_15_features]\n",
    "\n",
    "# Export the selected feature values\n",
    "X_train_selected.to_csv(\"selected_features.csv\", index=False)"
   ]
  },
  {
   "cell_type": "code",
   "execution_count": null,
   "id": "a478f125",
   "metadata": {},
   "outputs": [],
   "source": []
  }
 ],
 "metadata": {
  "kernelspec": {
   "display_name": "Python 3 (ipykernel)",
   "language": "python",
   "name": "python3"
  },
  "language_info": {
   "codemirror_mode": {
    "name": "ipython",
    "version": 3
   },
   "file_extension": ".py",
   "mimetype": "text/x-python",
   "name": "python",
   "nbconvert_exporter": "python",
   "pygments_lexer": "ipython3",
   "version": "3.9.13"
  }
 },
 "nbformat": 4,
 "nbformat_minor": 5
}
