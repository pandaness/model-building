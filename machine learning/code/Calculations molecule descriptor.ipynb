{
 "cells": [
  {
   "cell_type": "code",
   "execution_count": 1,
   "id": "ea8a103d",
   "metadata": {},
   "outputs": [],
   "source": [
    "from rdkit import Chem\n",
    "from rdkit.Chem import Descriptors\n",
    "from rdkit.ML.Descriptors import MoleculeDescriptors\n",
    "import pandas as pd\n",
    "\n",
    "# Read the SDF file\n",
    "suppl = Chem.SDMolSupplier('substance.sdf')\n",
    "mols = [x for x in suppl if x is not None]\n",
    "\n",
    "# Calculate all descriptors\n",
    "descs = [desc_name[0] for desc_name in Descriptors.descList]\n",
    "calculator = MoleculeDescriptors.MolecularDescriptorCalculator(descs)\n",
    "descs_values = []\n",
    "for mol in mols:\n",
    "    desc = calculator.CalcDescriptors(mol)\n",
    "    descs_values.append(desc)\n",
    "\n",
    "# Export the descriptor values as an excel file\n",
    "df = pd.DataFrame(descs_values, columns=descs)\n",
    "df.to_excel('Molecular descriptors.xlsx', index=False)"
   ]
  },
  {
   "cell_type": "code",
   "execution_count": null,
   "id": "c6c3fb58",
   "metadata": {},
   "outputs": [],
   "source": []
  }
 ],
 "metadata": {
  "kernelspec": {
   "display_name": "Python 3 (ipykernel)",
   "language": "python",
   "name": "python3"
  },
  "language_info": {
   "codemirror_mode": {
    "name": "ipython",
    "version": 3
   },
   "file_extension": ".py",
   "mimetype": "text/x-python",
   "name": "python",
   "nbconvert_exporter": "python",
   "pygments_lexer": "ipython3",
   "version": "3.9.13"
  }
 },
 "nbformat": 4,
 "nbformat_minor": 5
}
